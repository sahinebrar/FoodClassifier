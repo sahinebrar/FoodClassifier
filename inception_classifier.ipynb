{
 "cells": [
  {
   "cell_type": "code",
   "execution_count": 7,
   "id": "0b0a8cdc-e090-4afc-97a8-6161928f7d89",
   "metadata": {},
   "outputs": [],
   "source": [
    "import tensorflow as tf\n",
    "from tensorflow.keras.preprocessing.image import ImageDataGenerator\n",
    "from tensorflow.keras.layers import GlobalAveragePooling2D, Dense, Dropout\n",
    "from tensorflow.keras.models import Model\n",
    "from tensorflow.keras.applications.inception_v3 import InceptionV3\n",
    "import urllib.request\n",
    "from keras.optimizers import adam_v2\n",
    "import ssl\n",
    "import os\n",
    "import matplotlib.pyplot as plt"
   ]
  },
  {
   "cell_type": "code",
   "execution_count": 2,
   "id": "f0c1a4b7-a2a4-41da-9b4e-31e988beff63",
   "metadata": {},
   "outputs": [],
   "source": [
    "# Define the input image size\n",
    "img_width, img_height = 224, 224\n",
    "\n",
    "# Set the number of epochs and batch size\n",
    "epochs = 20\n",
    "batch_size = 32"
   ]
  },
  {
   "cell_type": "code",
   "execution_count": 3,
   "id": "39e467b9-66ae-464b-a1ed-3ba504423bf7",
   "metadata": {},
   "outputs": [],
   "source": [
    "# Set the path to the dataset \n",
    "train_dir = '/Volumes/SSD/dishes'\n",
    "valid_dir = '/Volumes/SSD/dishes-val'\n",
    "test_dir = '/Volumes/SSD/dishes-test'"
   ]
  },
  {
   "cell_type": "code",
   "execution_count": 4,
   "id": "472e6cc3-3a81-4697-b0ee-622501437bf0",
   "metadata": {},
   "outputs": [
    {
     "name": "stdout",
     "output_type": "stream",
     "text": [
      "Found 1985 images belonging to 2 classes.\n",
      "Found 833 images belonging to 2 classes.\n"
     ]
    }
   ],
   "source": [
    "# Create a data generator for the training set\n",
    "train_datagen = ImageDataGenerator(\n",
    "    rescale=1./255,\n",
    "    shear_range=0.2,\n",
    "    zoom_range=0.2,\n",
    "    horizontal_flip=True)\n",
    "\n",
    "# Create a data generator for the validation set\n",
    "valid_datagen = ImageDataGenerator(rescale=1./255)\n",
    "\n",
    "train_generator = train_datagen.flow_from_directory(train_dir, target_size=(img_width, img_height), batch_size=batch_size, class_mode='binary')\n",
    "valid_generator = valid_datagen.flow_from_directory(valid_dir, target_size=(img_width, img_height), batch_size=batch_size, class_mode='binary')"
   ]
  },
  {
   "cell_type": "code",
   "execution_count": 5,
   "id": "1852eeed-63a6-4185-82fb-6d3a4ba238e3",
   "metadata": {},
   "outputs": [],
   "source": [
    "# Disable SSL certificate verification\n",
    "ssl._create_default_https_context = ssl._create_unverified_context"
   ]
  },
  {
   "cell_type": "code",
   "execution_count": 9,
   "id": "a7b1a70a-1b16-4716-b2e6-9c6eb1293773",
   "metadata": {},
   "outputs": [
    {
     "name": "stdout",
     "output_type": "stream",
     "text": [
      "Epoch 1/20\n",
      "63/63 [==============================] - 200s 3s/step - loss: 0.6330 - accuracy: 0.6630 - val_loss: 0.5796 - val_accuracy: 0.6891\n",
      "Epoch 2/20\n",
      "63/63 [==============================] - 161s 3s/step - loss: 0.4566 - accuracy: 0.7854 - val_loss: 0.5726 - val_accuracy: 0.7083\n",
      "Epoch 3/20\n",
      "63/63 [==============================] - 162s 3s/step - loss: 0.4482 - accuracy: 0.7844 - val_loss: 0.5593 - val_accuracy: 0.7131\n",
      "Epoch 4/20\n",
      "63/63 [==============================] - 160s 3s/step - loss: 0.4150 - accuracy: 0.8106 - val_loss: 0.5521 - val_accuracy: 0.7227\n",
      "Epoch 5/20\n",
      "63/63 [==============================] - 160s 3s/step - loss: 0.3824 - accuracy: 0.8338 - val_loss: 0.5607 - val_accuracy: 0.7239\n",
      "Epoch 6/20\n",
      "63/63 [==============================] - 160s 3s/step - loss: 0.3618 - accuracy: 0.8529 - val_loss: 0.5485 - val_accuracy: 0.7359\n",
      "Epoch 7/20\n",
      "63/63 [==============================] - 159s 3s/step - loss: 0.3433 - accuracy: 0.8539 - val_loss: 0.5522 - val_accuracy: 0.7323\n",
      "Epoch 8/20\n",
      "63/63 [==============================] - 162s 3s/step - loss: 0.3430 - accuracy: 0.8479 - val_loss: 0.5644 - val_accuracy: 0.7239\n",
      "Epoch 9/20\n",
      "63/63 [==============================] - 158s 2s/step - loss: 0.3248 - accuracy: 0.8650 - val_loss: 0.5594 - val_accuracy: 0.7323\n",
      "Epoch 10/20\n",
      "63/63 [==============================] - 157s 2s/step - loss: 0.3179 - accuracy: 0.8579 - val_loss: 0.5575 - val_accuracy: 0.7383\n",
      "Epoch 11/20\n",
      "63/63 [==============================] - 158s 3s/step - loss: 0.3365 - accuracy: 0.8509 - val_loss: 0.5422 - val_accuracy: 0.7323\n",
      "Epoch 12/20\n",
      "63/63 [==============================] - 157s 3s/step - loss: 0.2895 - accuracy: 0.8766 - val_loss: 0.5644 - val_accuracy: 0.7383\n",
      "Epoch 13/20\n",
      "63/63 [==============================] - 157s 3s/step - loss: 0.3068 - accuracy: 0.8695 - val_loss: 0.5786 - val_accuracy: 0.7323\n",
      "Epoch 14/20\n",
      "63/63 [==============================] - 158s 3s/step - loss: 0.2895 - accuracy: 0.8781 - val_loss: 0.5604 - val_accuracy: 0.7335\n",
      "Epoch 15/20\n",
      "63/63 [==============================] - 158s 3s/step - loss: 0.2833 - accuracy: 0.8902 - val_loss: 0.5519 - val_accuracy: 0.7419\n",
      "Epoch 16/20\n",
      "63/63 [==============================] - 157s 3s/step - loss: 0.2544 - accuracy: 0.8982 - val_loss: 0.5472 - val_accuracy: 0.7467\n",
      "Epoch 17/20\n",
      "63/63 [==============================] - 157s 2s/step - loss: 0.2657 - accuracy: 0.8882 - val_loss: 0.5804 - val_accuracy: 0.7467\n",
      "Epoch 18/20\n",
      "63/63 [==============================] - 157s 2s/step - loss: 0.2578 - accuracy: 0.8897 - val_loss: 0.5675 - val_accuracy: 0.7335\n",
      "Epoch 19/20\n",
      "63/63 [==============================] - 157s 2s/step - loss: 0.2564 - accuracy: 0.8957 - val_loss: 0.5570 - val_accuracy: 0.7359\n",
      "Epoch 20/20\n",
      "63/63 [==============================] - 158s 3s/step - loss: 0.2273 - accuracy: 0.9113 - val_loss: 0.5547 - val_accuracy: 0.7323\n"
     ]
    }
   ],
   "source": [
    "# Load InceptionV3 model without the top classification layer\n",
    "base_model = InceptionV3(weights='imagenet', include_top=False, input_shape=(img_width, img_height, 3))\n",
    "\n",
    "# Add a GlobalAveragePooling2D layer to convert the output of the previous layer into a 2D tensor\n",
    "x = base_model.output\n",
    "x = GlobalAveragePooling2D()(x)\n",
    "\n",
    "# Add a fully-connected layer with 512 hidden units and ReLU activation\n",
    "x = Dense(512, activation='relu')(x)\n",
    "\n",
    "# Add a dropout layer with a rate of 0.5 to prevent overfitting\n",
    "x = Dropout(0.5)(x)\n",
    "\n",
    "# Add a final binary classification layer with sigmoid activation\n",
    "predictions = Dense(1, activation='sigmoid')(x)\n",
    "\n",
    "# Create the final model\n",
    "model = Model(inputs=base_model.input, outputs=predictions)\n",
    "\n",
    "# Freeze all layers in the base model\n",
    "for layer in base_model.layers:\n",
    "    layer.trainable = False\n",
    "\n",
    "# Compile the model with binary cross-entropy loss and Adam optimizer\n",
    "model.compile(optimizer=adam_v2.Adam(learning_rate=0.0001, decay=0.0001/epochs), loss='binary_crossentropy', metrics=['accuracy'])\n",
    "\n",
    "history = model.fit(train_generator, epochs=epochs, validation_data=valid_generator)"
   ]
  },
  {
   "cell_type": "code",
   "execution_count": 10,
   "id": "5dc07784-4c8f-41e9-b6f2-cc6874a366f4",
   "metadata": {},
   "outputs": [
    {
     "name": "stdout",
     "output_type": "stream",
     "text": [
      "Found 2321 images belonging to 2 classes.\n",
      "73/73 [==============================] - 125s 2s/step - loss: 0.6490 - accuracy: 0.7234\n",
      "Test accuracy: 0.7233951091766357\n"
     ]
    }
   ],
   "source": [
    "# Evaluate the model\n",
    "test_datagen = ImageDataGenerator(preprocessing_function=preprocess_input)\n",
    "test_generator = test_datagen.flow_from_directory(\n",
    "    test_dir,\n",
    "    target_size=(img_width, img_height),\n",
    "    batch_size=32,\n",
    "    class_mode='binary',\n",
    "    shuffle=False\n",
    ")\n",
    "\n",
    "test_loss, test_acc = model.evaluate(test_generator)\n",
    "print('Test accuracy:', test_acc)"
   ]
  },
  {
   "cell_type": "code",
   "execution_count": 11,
   "id": "9e10f699-1f54-4c1f-87a6-686a07c69eac",
   "metadata": {},
   "outputs": [
    {
     "data": {
      "image/png": "[encoded data removed]",
      "text/plain": [
       "<Figure size 576x576 with 2 Axes>"
      ]
     },
     "metadata": {
      "needs_background": "light"
     },
     "output_type": "display_data"
    }
   ],
   "source": [
    "acc = history.history['accuracy']\n",
    "val_acc = history.history['val_accuracy']\n",
    "\n",
    "loss = history.history['loss']\n",
    "val_loss = history.history['val_loss']\n",
    "\n",
    "epochs_range = range(epochs)\n",
    "\n",
    "plt.figure(figsize=(8, 8))\n",
    "plt.subplot(1, 2, 1)\n",
    "plt.plot(epochs_range, acc, label='Training Accuracy')\n",
    "plt.plot(epochs_range, val_acc, label='Validation Accuracy')\n",
    "plt.legend(loc='lower right')\n",
    "plt.title('Training and Validation Accuracy - ResNet')\n",
    "\n",
    "plt.subplot(1, 2, 2)\n",
    "plt.plot(epochs_range, loss, label='Training Loss')\n",
    "plt.plot(epochs_range, val_loss, label='Validation Loss')\n",
    "plt.legend(loc='upper right')\n",
    "plt.title('Training and Validation Loss - ResNet')\n",
    "plt.show()"
   ]
  },
  {
   "cell_type": "code",
   "execution_count": null,
   "id": "e62ffddf-5f86-4ce3-b52d-351840784d04",
   "metadata": {},
   "outputs": [],
   "source": []
  }
 ],
 "metadata": {
  "kernelspec": {
   "display_name": "Python 3 (ipykernel)",
   "language": "python",
   "name": "python3"
  },
  "language_info": {
   "codemirror_mode": {
    "name": "ipython",
    "version": 3
   },
   "file_extension": ".py",
   "mimetype": "text/x-python",
   "name": "python",
   "nbconvert_exporter": "python",
   "pygments_lexer": "ipython3",
   "version": "3.10.0"
  }
 },
 "nbformat": 4,
 "nbformat_minor": 5
}
