{
 "cells": [
  {
   "cell_type": "code",
   "execution_count": null,
   "id": "bb0b2738-ed6b-4ada-9d94-9e014dbbd95e",
   "metadata": {},
   "outputs": [],
   "source": [
    "# This notebook includes VGG16 to classify if a food image is vegetarian or not vegetarian "
   ]
  },
  {
   "cell_type": "code",
   "execution_count": 15,
   "id": "ceffbfe5-e3fe-41f0-8387-caa9b0f82a7e",
   "metadata": {},
   "outputs": [],
   "source": [
    "# Imports\n",
    "import os\n",
    "import numpy as np\n",
    "import keras\n",
    "from keras.preprocessing.image import ImageDataGenerator\n",
    "from keras.applications.vgg16 import VGG16\n",
    "from keras.layers import Dense, Flatten\n",
    "from keras.models import Model\n",
    "from keras.optimizers import adam_v2\n",
    "import urllib.request\n",
    "import ssl\n",
    "import matplotlib.pyplot as plt\n"
   ]
  },
  {
   "cell_type": "code",
   "execution_count": 4,
   "id": "45cab3a9-162e-46eb-92c3-06dc03010a81",
   "metadata": {},
   "outputs": [],
   "source": [
    "# Set the path to the dataset \n",
    "train_dir = '/Volumes/SSD/dishes'\n",
    "valid_dir = '/Volumes/SSD/dishes-val'\n",
    "test_dir = '/Volumes/SSD/dishes-test'"
   ]
  },
  {
   "cell_type": "code",
   "execution_count": 5,
   "id": "76f19f3c-2325-41b7-911c-fa2d6afe2585",
   "metadata": {},
   "outputs": [],
   "source": [
    "# Define the input image size\n",
    "img_width, img_height = 224, 224\n",
    "\n",
    "# Set the number of epochs and batch size\n",
    "epochs = 20\n",
    "batch_size = 32\n",
    "\n",
    "# Create a data generator for the training set\n",
    "train_datagen = ImageDataGenerator(\n",
    "    rescale=1./255,\n",
    "    shear_range=0.2,\n",
    "    zoom_range=0.2,\n",
    "    horizontal_flip=True)\n",
    "\n",
    "# Create a data generator for the validation set\n",
    "valid_datagen = ImageDataGenerator(rescale=1./255)"
   ]
  },
  {
   "cell_type": "code",
   "execution_count": 6,
   "id": "44fd74aa-b5a0-46e5-8914-c1888921064e",
   "metadata": {},
   "outputs": [],
   "source": [
    "# Set the number of training and validation samples\n",
    "nb_train_samples = 1985\n",
    "nb_valid_samples = 833"
   ]
  },
  {
   "cell_type": "code",
   "execution_count": 7,
   "id": "740222d0-a154-4e73-be43-e78f89963011",
   "metadata": {},
   "outputs": [],
   "source": [
    "# Download the VGG16 weights manually\n",
    "weights_path = 'vgg16_weights_tf_dim_ordering_tf_kernels_notop.h5'\n",
    "if not os.path.exists(weights_path):\n",
    "    url = 'https://github.com/fchollet/deep-learning-models/releases/download/v0.1/vgg16_weights_tf_dim_ordering_tf_kernels_notop.h5'\n",
    "    urllib.request.urlretrieve(url, weights_path)"
   ]
  },
  {
   "cell_type": "code",
   "execution_count": 8,
   "id": "278e8aad-7ad6-439b-8a62-8a681927e28a",
   "metadata": {},
   "outputs": [
    {
     "name": "stderr",
     "output_type": "stream",
     "text": [
      "2023-04-15 11:10:24.663863: I tensorflow/core/platform/cpu_feature_guard.cc:151] This TensorFlow binary is optimized with oneAPI Deep Neural Network Library (oneDNN) to use the following CPU instructions in performance-critical operations:  AVX2 FMA\n",
      "To enable them in other operations, rebuild TensorFlow with the appropriate compiler flags.\n"
     ]
    }
   ],
   "source": [
    "# Build the VGG16 network\n",
    "base_model = VGG16(weights='imagenet', include_top=False, input_shape=(img_width, img_height, 3))"
   ]
  },
  {
   "cell_type": "code",
   "execution_count": 9,
   "id": "f1c5815f-fefa-4626-ab69-0e96a8b37db6",
   "metadata": {},
   "outputs": [],
   "source": [
    "# Add a custom top layer\n",
    "x = base_model.output\n",
    "x = Flatten()(x)\n",
    "predictions = Dense(1, activation='sigmoid')(x)\n",
    "model = Model(inputs=base_model.input, outputs=predictions)"
   ]
  },
  {
   "cell_type": "code",
   "execution_count": 10,
   "id": "124f3342-c7f9-4c84-9ae6-15349175efb6",
   "metadata": {},
   "outputs": [],
   "source": [
    "# Freeze the VGG16 layers\n",
    "for layer in base_model.layers:\n",
    "    layer.trainable = False"
   ]
  },
  {
   "cell_type": "code",
   "execution_count": 11,
   "id": "961b5bdf-8df8-4306-a964-4d57c5b3017d",
   "metadata": {},
   "outputs": [],
   "source": [
    "# Compile the model\n",
    "model.compile(optimizer=adam_v2.Adam(learning_rate=0.0001, decay=0.0001/epochs), loss='binary_crossentropy', metrics=['accuracy'])"
   ]
  },
  {
   "cell_type": "code",
   "execution_count": 12,
   "id": "844f2112-03fb-4d91-8f15-85a29506fa36",
   "metadata": {},
   "outputs": [
    {
     "name": "stdout",
     "output_type": "stream",
     "text": [
      "Found 1985 images belonging to 2 classes.\n",
      "Found 833 images belonging to 2 classes.\n"
     ]
    }
   ],
   "source": [
    "# Create the data generators\n",
    "train_datagen = ImageDataGenerator(rescale=1.0/255)\n",
    "valid_datagen = ImageDataGenerator(rescale=1.0/255)\n",
    "\n",
    "train_generator = train_datagen.flow_from_directory(train_dir, target_size=(img_width, img_height), batch_size=batch_size, class_mode='binary')\n",
    "valid_generator = valid_datagen.flow_from_directory(valid_dir, target_size=(img_width, img_height), batch_size=batch_size, class_mode='binary')"
   ]
  },
  {
   "cell_type": "code",
   "execution_count": 24,
   "id": "0ef73506-449d-4fec-b8cf-812d446e091e",
   "metadata": {},
   "outputs": [
    {
     "name": "stdout",
     "output_type": "stream",
     "text": [
      "Epoch 1/20\n",
      "62/62 [==============================] - 651s 11s/step - loss: 0.2723 - accuracy: 0.9427 - val_loss: 0.6713 - val_accuracy: 0.6370\n",
      "Epoch 2/20\n",
      "62/62 [==============================] - 641s 10s/step - loss: 0.2630 - accuracy: 0.9467 - val_loss: 0.6744 - val_accuracy: 0.6334\n",
      "Epoch 3/20\n",
      "62/62 [==============================] - 643s 10s/step - loss: 0.2624 - accuracy: 0.9406 - val_loss: 0.6698 - val_accuracy: 0.6358\n",
      "Epoch 4/20\n",
      "62/62 [==============================] - 643s 10s/step - loss: 0.2522 - accuracy: 0.9519 - val_loss: 0.6739 - val_accuracy: 0.6454\n",
      "Epoch 5/20\n",
      "62/62 [==============================] - 646s 10s/step - loss: 0.2448 - accuracy: 0.9529 - val_loss: 0.6826 - val_accuracy: 0.6370\n",
      "Epoch 6/20\n",
      "62/62 [==============================] - 643s 10s/step - loss: 0.2327 - accuracy: 0.9606 - val_loss: 0.6802 - val_accuracy: 0.6394\n",
      "Epoch 7/20\n",
      "62/62 [==============================] - 643s 10s/step - loss: 0.2314 - accuracy: 0.9585 - val_loss: 0.7038 - val_accuracy: 0.6334\n",
      "Epoch 8/20\n",
      "62/62 [==============================] - 807s 13s/step - loss: 0.2221 - accuracy: 0.9642 - val_loss: 0.6800 - val_accuracy: 0.6418\n",
      "Epoch 9/20\n",
      "62/62 [==============================] - 839s 14s/step - loss: 0.2164 - accuracy: 0.9662 - val_loss: 0.6802 - val_accuracy: 0.6478\n",
      "Epoch 10/20\n",
      "62/62 [==============================] - 764s 12s/step - loss: 0.2099 - accuracy: 0.9693 - val_loss: 0.6902 - val_accuracy: 0.6406\n",
      "Epoch 11/20\n",
      "62/62 [==============================] - 787s 13s/step - loss: 0.2040 - accuracy: 0.9724 - val_loss: 0.6909 - val_accuracy: 0.6418\n",
      "Epoch 12/20\n",
      "62/62 [==============================] - 778s 13s/step - loss: 0.2016 - accuracy: 0.9703 - val_loss: 0.7084 - val_accuracy: 0.6322\n",
      "Epoch 13/20\n",
      "62/62 [==============================] - 818s 13s/step - loss: 0.1954 - accuracy: 0.9734 - val_loss: 0.6905 - val_accuracy: 0.6454\n",
      "Epoch 14/20\n",
      "62/62 [==============================] - 668s 11s/step - loss: 0.1894 - accuracy: 0.9764 - val_loss: 0.7006 - val_accuracy: 0.6490\n",
      "Epoch 15/20\n",
      "62/62 [==============================] - 657s 11s/step - loss: 0.1875 - accuracy: 0.9764 - val_loss: 0.6978 - val_accuracy: 0.6478\n",
      "Epoch 16/20\n",
      "62/62 [==============================] - 828s 13s/step - loss: 0.1793 - accuracy: 0.9780 - val_loss: 0.7087 - val_accuracy: 0.6442\n",
      "Epoch 17/20\n",
      "62/62 [==============================] - 942s 15s/step - loss: 0.1762 - accuracy: 0.9764 - val_loss: 0.6962 - val_accuracy: 0.6466\n",
      "Epoch 18/20\n",
      "62/62 [==============================] - 675s 11s/step - loss: 0.1716 - accuracy: 0.9790 - val_loss: 0.6953 - val_accuracy: 0.6442\n",
      "Epoch 19/20\n",
      "62/62 [==============================] - 721s 12s/step - loss: 0.1673 - accuracy: 0.9836 - val_loss: 0.7044 - val_accuracy: 0.6466\n",
      "Epoch 20/20\n",
      "62/62 [==============================] - 818s 13s/step - loss: 0.1643 - accuracy: 0.9831 - val_loss: 0.7156 - val_accuracy: 0.6466\n"
     ]
    }
   ],
   "source": [
    "# Train the model\n",
    "history = model.fit(train_generator, epochs=epochs, steps_per_epoch=nb_train_samples//batch_size, validation_data=valid_generator, validation_steps=nb_valid_samples//batch_size)"
   ]
  },
  {
   "cell_type": "code",
   "execution_count": 25,
   "id": "d96b5d98-8016-42c7-8fcc-4587c89e53d8",
   "metadata": {},
   "outputs": [
    {
     "name": "stdout",
     "output_type": "stream",
     "text": [
      "Found 2321 images belonging to 2 classes.\n",
      "73/73 [==============================] - 832s 11s/step - loss: 0.6499 - accuracy: 0.6743\n",
      "Test accuracy: 0.6742783188819885\n"
     ]
    }
   ],
   "source": [
    "# Evaluate the model on the test set\n",
    "test_datagen = ImageDataGenerator(rescale=1.0/255)\n",
    "test_generator = test_datagen.flow_from_directory(test_dir, target_size=(img_width, img_height), batch_size=batch_size, class_mode='binary')\n",
    "test_loss, test_acc = model.evaluate(test_generator, steps=len(test_generator))\n",
    "print('Test accuracy:', test_acc)"
   ]
  },
  {
   "cell_type": "code",
   "execution_count": 28,
   "id": "458c7af9-8ce2-403d-8b27-567f73aa51d7",
   "metadata": {},
   "outputs": [
    {
     "data": {
      "image/png": "[encoded data removed]",
      "text/plain": [
       "<Figure size 576x576 with 2 Axes>"
      ]
     },
     "metadata": {
      "needs_background": "light"
     },
     "output_type": "display_data"
    }
   ],
   "source": [
    "acc = history.history['accuracy']\n",
    "val_acc = history.history['val_accuracy']\n",
    "\n",
    "loss = history.history['loss']\n",
    "val_loss = history.history['val_loss']\n",
    "\n",
    "epochs_range = range(epochs)\n",
    "\n",
    "plt.figure(figsize=(8, 8))\n",
    "plt.subplot(1, 2, 1)\n",
    "plt.plot(epochs_range, acc, label='Training Accuracy')\n",
    "plt.plot(epochs_range, val_acc, label='Validation Accuracy')\n",
    "plt.legend(loc='center')\n",
    "plt.title('Training and Validation Accuracy - VGG16')\n",
    "\n",
    "plt.subplot(1, 2, 2)\n",
    "plt.plot(epochs_range, loss, label='Training Loss')\n",
    "plt.plot(epochs_range, val_loss, label='Validation Loss')\n",
    "plt.legend(loc='center')\n",
    "plt.title('Training and Validation Loss - VGG16')\n",
    "plt.show()"
   ]
  }
 ],
 "metadata": {
  "kernelspec": {
   "display_name": "Python 3 (ipykernel)",
   "language": "python",
   "name": "python3"
  },
  "language_info": {
   "codemirror_mode": {
    "name": "ipython",
    "version": 3
   },
   "file_extension": ".py",
   "mimetype": "text/x-python",
   "name": "python",
   "nbconvert_exporter": "python",
   "pygments_lexer": "ipython3",
   "version": "3.10.0"
  }
 },
 "nbformat": 4,
 "nbformat_minor": 5
}
