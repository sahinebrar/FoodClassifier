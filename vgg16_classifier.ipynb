{
 "cells": [
  {
   "cell_type": "code",
   "execution_count": null,
   "id": "bb0b2738-ed6b-4ada-9d94-9e014dbbd95e",
   "metadata": {},
   "outputs": [],
   "source": [
    "# This notebook includes VGG16 to classify if a food image is vegetarian or not vegetarian "
   ]
  },
  {
   "cell_type": "code",
   "execution_count": 1,
   "id": "ceffbfe5-e3fe-41f0-8387-caa9b0f82a7e",
   "metadata": {},
   "outputs": [],
   "source": [
    "# Imports\n",
    "import os\n",
    "import numpy as np\n",
    "import keras\n",
    "from keras.preprocessing.image import ImageDataGenerator\n",
    "from keras.applications.vgg16 import VGG16\n",
    "from keras.layers import Dense, Flatten\n",
    "from keras.models import Model\n",
    "from keras.optimizers import adam_v2\n",
    "import urllib.request\n",
    "import ssl"
   ]
  },
  {
   "cell_type": "code",
   "execution_count": 2,
   "id": "45cab3a9-162e-46eb-92c3-06dc03010a81",
   "metadata": {},
   "outputs": [],
   "source": [
    "# Set the path to the dataset \n",
    "train_dir = '/Volumes/SSD/dishes'\n",
    "valid_dir = '/Volumes/SSD/dishes-val'\n",
    "test_dir = '/Volumes/SSD/dishes-test'"
   ]
  },
  {
   "cell_type": "code",
   "execution_count": 3,
   "id": "76f19f3c-2325-41b7-911c-fa2d6afe2585",
   "metadata": {},
   "outputs": [],
   "source": [
    "# Define the input image size\n",
    "img_width, img_height = 224, 224\n",
    "\n",
    "# Set the number of epochs and batch size\n",
    "epochs = 20\n",
    "batch_size = 32\n",
    "\n",
    "# Create a data generator for the training set\n",
    "train_datagen = ImageDataGenerator(\n",
    "    rescale=1./255,\n",
    "    shear_range=0.2,\n",
    "    zoom_range=0.2,\n",
    "    horizontal_flip=True)\n",
    "\n",
    "# Create a data generator for the validation set\n",
    "valid_datagen = ImageDataGenerator(rescale=1./255)"
   ]
  },
  {
   "cell_type": "code",
   "execution_count": 11,
   "id": "44fd74aa-b5a0-46e5-8914-c1888921064e",
   "metadata": {},
   "outputs": [],
   "source": [
    "# Set the number of training and validation samples\n",
    "nb_train_samples = 1985\n",
    "nb_valid_samples = 833"
   ]
  },
  {
   "cell_type": "code",
   "execution_count": 12,
   "id": "740222d0-a154-4e73-be43-e78f89963011",
   "metadata": {},
   "outputs": [],
   "source": [
    "# Download the VGG16 weights manually\n",
    "weights_path = 'vgg16_weights_tf_dim_ordering_tf_kernels_notop.h5'\n",
    "if not os.path.exists(weights_path):\n",
    "    url = 'https://github.com/fchollet/deep-learning-models/releases/download/v0.1/vgg16_weights_tf_dim_ordering_tf_kernels_notop.h5'\n",
    "    urllib.request.urlretrieve(url, weights_path)"
   ]
  },
  {
   "cell_type": "code",
   "execution_count": 13,
   "id": "278e8aad-7ad6-439b-8a62-8a681927e28a",
   "metadata": {},
   "outputs": [],
   "source": [
    "# Build the VGG16 network\n",
    "base_model = VGG16(weights='imagenet', include_top=False, input_shape=(img_width, img_height, 3))"
   ]
  },
  {
   "cell_type": "code",
   "execution_count": 14,
   "id": "f1c5815f-fefa-4626-ab69-0e96a8b37db6",
   "metadata": {},
   "outputs": [],
   "source": [
    "# Add a custom top layer\n",
    "x = base_model.output\n",
    "x = Flatten()(x)\n",
    "predictions = Dense(1, activation='sigmoid')(x)\n",
    "model = Model(inputs=base_model.input, outputs=predictions)"
   ]
  },
  {
   "cell_type": "code",
   "execution_count": 15,
   "id": "124f3342-c7f9-4c84-9ae6-15349175efb6",
   "metadata": {},
   "outputs": [],
   "source": [
    "# Freeze the VGG16 layers\n",
    "for layer in base_model.layers:\n",
    "    layer.trainable = False"
   ]
  },
  {
   "cell_type": "code",
   "execution_count": 16,
   "id": "961b5bdf-8df8-4306-a964-4d57c5b3017d",
   "metadata": {},
   "outputs": [],
   "source": [
    "# Compile the model\n",
    "model.compile(optimizer=adam_v2.Adam(learning_rate=0.0001, decay=0.0001/epochs), loss='binary_crossentropy', metrics=['accuracy'])"
   ]
  },
  {
   "cell_type": "code",
   "execution_count": 17,
   "id": "844f2112-03fb-4d91-8f15-85a29506fa36",
   "metadata": {},
   "outputs": [
    {
     "name": "stdout",
     "output_type": "stream",
     "text": [
      "Found 1985 images belonging to 2 classes.\n",
      "Found 833 images belonging to 2 classes.\n"
     ]
    }
   ],
   "source": [
    "# Create the data generators\n",
    "train_datagen = ImageDataGenerator(rescale=1.0/255)\n",
    "valid_datagen = ImageDataGenerator(rescale=1.0/255)\n",
    "\n",
    "train_generator = train_datagen.flow_from_directory(train_dir, target_size=(img_width, img_height), batch_size=batch_size, class_mode='binary')\n",
    "valid_generator = valid_datagen.flow_from_directory(valid_dir, target_size=(img_width, img_height), batch_size=batch_size, class_mode='binary')"
   ]
  },
  {
   "cell_type": "code",
   "execution_count": 18,
   "id": "0ef73506-449d-4fec-b8cf-812d446e091e",
   "metadata": {},
   "outputs": [
    {
     "name": "stderr",
     "output_type": "stream",
     "text": [
      "/var/folders/7_/43049s_d7v14zv0f3_1ysgqc0000gn/T/ipykernel_69765/498919934.py:2: UserWarning: `Model.fit_generator` is deprecated and will be removed in a future version. Please use `Model.fit`, which supports generators.\n",
      "  model.fit_generator(train_generator, epochs=epochs, steps_per_epoch=nb_train_samples//batch_size, validation_data=valid_generator, validation_steps=nb_valid_samples//batch_size)\n"
     ]
    },
    {
     "name": "stdout",
     "output_type": "stream",
     "text": [
      "Epoch 1/20\n",
      "62/62 [==============================] - 760s 12s/step - loss: 0.6833 - accuracy: 0.5627 - val_loss: 0.6908 - val_accuracy: 0.5541\n",
      "Epoch 2/20\n",
      "62/62 [==============================] - 739s 12s/step - loss: 0.5983 - accuracy: 0.6866 - val_loss: 0.6887 - val_accuracy: 0.5733\n",
      "Epoch 3/20\n",
      "62/62 [==============================] - 744s 12s/step - loss: 0.5532 - accuracy: 0.7235 - val_loss: 0.6712 - val_accuracy: 0.5589\n",
      "Epoch 4/20\n",
      "62/62 [==============================] - 744s 12s/step - loss: 0.5298 - accuracy: 0.7501 - val_loss: 0.6686 - val_accuracy: 0.5853\n",
      "Epoch 5/20\n",
      "62/62 [==============================] - 739s 12s/step - loss: 0.4877 - accuracy: 0.8054 - val_loss: 0.6719 - val_accuracy: 0.6034\n",
      "Epoch 6/20\n",
      "62/62 [==============================] - 741s 12s/step - loss: 0.4682 - accuracy: 0.8111 - val_loss: 0.6635 - val_accuracy: 0.5889\n",
      "Epoch 7/20\n",
      "62/62 [==============================] - 731s 12s/step - loss: 0.4449 - accuracy: 0.8280 - val_loss: 0.6633 - val_accuracy: 0.5950\n",
      "Epoch 8/20\n",
      "62/62 [==============================] - 732s 12s/step - loss: 0.4225 - accuracy: 0.8459 - val_loss: 0.6618 - val_accuracy: 0.6082\n",
      "Epoch 9/20\n",
      "62/62 [==============================] - 729s 12s/step - loss: 0.4071 - accuracy: 0.8623 - val_loss: 0.6681 - val_accuracy: 0.6142\n",
      "Epoch 10/20\n",
      "62/62 [==============================] - 721s 12s/step - loss: 0.3883 - accuracy: 0.8725 - val_loss: 0.6862 - val_accuracy: 0.6262\n",
      "Epoch 11/20\n",
      "62/62 [==============================] - 724s 12s/step - loss: 0.3779 - accuracy: 0.8720 - val_loss: 0.6559 - val_accuracy: 0.6178\n",
      "Epoch 12/20\n",
      "62/62 [==============================] - 721s 12s/step - loss: 0.3625 - accuracy: 0.8843 - val_loss: 0.6692 - val_accuracy: 0.6190\n",
      "Epoch 13/20\n",
      "62/62 [==============================] - 724s 12s/step - loss: 0.3486 - accuracy: 0.8940 - val_loss: 0.6545 - val_accuracy: 0.6274\n",
      "Epoch 14/20\n",
      "62/62 [==============================] - 723s 12s/step - loss: 0.3384 - accuracy: 0.9022 - val_loss: 0.6569 - val_accuracy: 0.6358\n",
      "Epoch 15/20\n",
      "62/62 [==============================] - 724s 12s/step - loss: 0.3292 - accuracy: 0.9165 - val_loss: 0.6602 - val_accuracy: 0.6346\n",
      "Epoch 16/20\n",
      "62/62 [==============================] - 730s 12s/step - loss: 0.3182 - accuracy: 0.9171 - val_loss: 0.6524 - val_accuracy: 0.6430\n",
      "Epoch 17/20\n",
      "62/62 [==============================] - 724s 12s/step - loss: 0.3054 - accuracy: 0.9242 - val_loss: 0.6574 - val_accuracy: 0.6346\n",
      "Epoch 18/20\n",
      "62/62 [==============================] - 723s 12s/step - loss: 0.2952 - accuracy: 0.9324 - val_loss: 0.6736 - val_accuracy: 0.6298\n",
      "Epoch 19/20\n",
      "62/62 [==============================] - 724s 12s/step - loss: 0.2901 - accuracy: 0.9299 - val_loss: 0.6550 - val_accuracy: 0.6394\n",
      "Epoch 20/20\n",
      "62/62 [==============================] - 722s 12s/step - loss: 0.2823 - accuracy: 0.9309 - val_loss: 0.6625 - val_accuracy: 0.6394\n"
     ]
    },
    {
     "data": {
      "text/plain": [
       "<keras.callbacks.History at 0x149da8130>"
      ]
     },
     "execution_count": 18,
     "metadata": {},
     "output_type": "execute_result"
    }
   ],
   "source": [
    "# Train the model\n",
    "model.fit_generator(train_generator, epochs=epochs, steps_per_epoch=nb_train_samples//batch_size, validation_data=valid_generator, validation_steps=nb_valid_samples//batch_size)"
   ]
  },
  {
   "cell_type": "code",
   "execution_count": 19,
   "id": "d96b5d98-8016-42c7-8fcc-4587c89e53d8",
   "metadata": {},
   "outputs": [
    {
     "name": "stdout",
     "output_type": "stream",
     "text": [
      "Found 2321 images belonging to 2 classes.\n",
      "73/73 [==============================] - 718s 10s/step - loss: 0.6178 - accuracy: 0.6777\n",
      "Test accuracy: 0.6777251362800598\n"
     ]
    }
   ],
   "source": [
    "# Evaluate the model on the test set\n",
    "test_datagen = ImageDataGenerator(rescale=1.0/255)\n",
    "test_generator = test_datagen.flow_from_directory(test_dir, target_size=(img_width, img_height), batch_size=batch_size, class_mode='binary')\n",
    "test_loss, test_acc = model.evaluate(test_generator, steps=len(test_generator))\n",
    "print('Test accuracy:', test_acc)"
   ]
  },
  {
   "cell_type": "code",
   "execution_count": null,
   "id": "458c7af9-8ce2-403d-8b27-567f73aa51d7",
   "metadata": {},
   "outputs": [],
   "source": []
  }
 ],
 "metadata": {
  "kernelspec": {
   "display_name": "Python 3 (ipykernel)",
   "language": "python",
   "name": "python3"
  },
  "language_info": {
   "codemirror_mode": {
    "name": "ipython",
    "version": 3
   },
   "file_extension": ".py",
   "mimetype": "text/x-python",
   "name": "python",
   "nbconvert_exporter": "python",
   "pygments_lexer": "ipython3",
   "version": "3.10.0"
  }
 },
 "nbformat": 4,
 "nbformat_minor": 5
}
