{
 "cells": [
  {
   "cell_type": "code",
   "execution_count": 1,
   "id": "90c6203b-0470-4571-8e5b-5ae15fab22ff",
   "metadata": {},
   "outputs": [],
   "source": [
    "import os\n",
    "import numpy as np\n",
    "import keras\n",
    "from keras.preprocessing.image import ImageDataGenerator\n",
    "from keras.layers import Conv2D, MaxPooling2D, Flatten, Dense\n",
    "from keras.models import Sequential\n",
    "from keras.optimizers import adam_v2"
   ]
  },
  {
   "cell_type": "code",
   "execution_count": 2,
   "id": "a1fac883-d206-49ee-b2b0-aa87f7335281",
   "metadata": {},
   "outputs": [],
   "source": [
    "# Set the path to the dataset \n",
    "train_dir = '/Volumes/SSD/dishes'\n",
    "valid_dir = '/Volumes/SSD/dishes-val'\n",
    "test_dir = '/Volumes/SSD/dishes-test'"
   ]
  },
  {
   "cell_type": "code",
   "execution_count": 9,
   "id": "ff36a2d1-8756-4519-9f44-a9281027f8a3",
   "metadata": {},
   "outputs": [],
   "source": [
    "# Define the input image size\n",
    "img_shape = (224, 224, 3)\n",
    "\n",
    "# Set the number of epochs and batch size\n",
    "epochs = 20\n",
    "batch_size = 32"
   ]
  },
  {
   "cell_type": "code",
   "execution_count": 10,
   "id": "3b14ddc7-06d1-4485-9457-3e8e9c314202",
   "metadata": {},
   "outputs": [
    {
     "name": "stdout",
     "output_type": "stream",
     "text": [
      "Found 1985 images belonging to 2 classes.\n",
      "Found 833 images belonging to 2 classes.\n"
     ]
    }
   ],
   "source": [
    "# Create an ImageDataGenerator to augment and preprocess your training data\n",
    "train_datagen = ImageDataGenerator(\n",
    "    rescale=1./255,\n",
    "    shear_range=0.2,\n",
    "    zoom_range=0.2,\n",
    "    horizontal_flip=True)\n",
    "\n",
    "# Create an ImageDataGenerator to preprocess your validation data\n",
    "val_datagen = ImageDataGenerator(rescale=1./255)\n",
    "\n",
    "# Create a generator for your training data\n",
    "train_generator = train_datagen.flow_from_directory(\n",
    "    train_dir,\n",
    "    target_size=img_shape[:2],\n",
    "    batch_size=batch_size,\n",
    "    class_mode='binary')\n",
    "\n",
    "# Create a generator for your validation data\n",
    "val_generator = val_datagen.flow_from_directory(\n",
    "    valid_dir,\n",
    "    target_size=img_shape[:2],\n",
    "    batch_size=batch_size,\n",
    "    class_mode='binary')"
   ]
  },
  {
   "cell_type": "code",
   "execution_count": 12,
   "id": "dcd252e3-c213-48d9-aeb0-a2b9ab9fda55",
   "metadata": {},
   "outputs": [],
   "source": [
    "# Define your CNN model\n",
    "model = Sequential()\n",
    "model.add(Conv2D(32, (3, 3), activation='relu', input_shape=img_shape))\n",
    "model.add(MaxPooling2D((2, 2)))\n",
    "model.add(Conv2D(64, (3, 3), activation='relu'))\n",
    "model.add(MaxPooling2D((2, 2)))\n",
    "model.add(Conv2D(128, (3, 3), activation='relu'))\n",
    "model.add(MaxPooling2D((2, 2)))\n",
    "model.add(Flatten())\n",
    "model.add(Dense(128, activation='relu'))\n",
    "model.add(Dense(1, activation='sigmoid'))"
   ]
  },
  {
   "cell_type": "code",
   "execution_count": 13,
   "id": "fa028469-9c51-4ef2-bf22-cda5bfd61447",
   "metadata": {},
   "outputs": [],
   "source": [
    "# Compile your model\n",
    "model.compile(optimizer=adam_v2.Adam(learning_rate=0.0001, decay=0.0001/epochs), loss='binary_crossentropy', metrics=['accuracy'])"
   ]
  },
  {
   "cell_type": "code",
   "execution_count": 14,
   "id": "714a3787-abe8-4ad6-ab6e-cc7ae283110d",
   "metadata": {},
   "outputs": [
    {
     "name": "stdout",
     "output_type": "stream",
     "text": [
      "Epoch 1/20\n",
      "62/62 [==============================] - 152s 2s/step - loss: 0.6882 - accuracy: 0.5643 - val_loss: 0.6608 - val_accuracy: 0.6022\n",
      "Epoch 2/20\n",
      "62/62 [==============================] - 133s 2s/step - loss: 0.6504 - accuracy: 0.6288 - val_loss: 0.6357 - val_accuracy: 0.6442\n",
      "Epoch 3/20\n",
      "62/62 [==============================] - 161s 3s/step - loss: 0.6298 - accuracy: 0.6380 - val_loss: 0.5910 - val_accuracy: 0.7103\n",
      "Epoch 4/20\n",
      "62/62 [==============================] - 174s 3s/step - loss: 0.6188 - accuracy: 0.6528 - val_loss: 0.5775 - val_accuracy: 0.7079\n",
      "Epoch 5/20\n",
      "62/62 [==============================] - 175s 3s/step - loss: 0.6005 - accuracy: 0.6667 - val_loss: 0.5781 - val_accuracy: 0.7067\n",
      "Epoch 6/20\n",
      "62/62 [==============================] - 183s 3s/step - loss: 0.6047 - accuracy: 0.6631 - val_loss: 0.5615 - val_accuracy: 0.7308\n",
      "Epoch 7/20\n",
      "62/62 [==============================] - 194s 3s/step - loss: 0.5822 - accuracy: 0.6800 - val_loss: 0.5677 - val_accuracy: 0.6935\n",
      "Epoch 8/20\n",
      "62/62 [==============================] - 200s 3s/step - loss: 0.5674 - accuracy: 0.6928 - val_loss: 0.5730 - val_accuracy: 0.7139\n",
      "Epoch 9/20\n",
      "62/62 [==============================] - 149s 2s/step - loss: 0.5647 - accuracy: 0.6959 - val_loss: 0.5776 - val_accuracy: 0.7091\n",
      "Epoch 10/20\n",
      "62/62 [==============================] - 142s 2s/step - loss: 0.5397 - accuracy: 0.7220 - val_loss: 0.5943 - val_accuracy: 0.6779\n",
      "Epoch 11/20\n",
      "62/62 [==============================] - 153s 2s/step - loss: 0.5409 - accuracy: 0.7199 - val_loss: 0.5664 - val_accuracy: 0.7031\n",
      "Epoch 12/20\n",
      "62/62 [==============================] - 174s 3s/step - loss: 0.5215 - accuracy: 0.7322 - val_loss: 0.6008 - val_accuracy: 0.6971\n",
      "Epoch 13/20\n",
      "62/62 [==============================] - 163s 3s/step - loss: 0.5185 - accuracy: 0.7343 - val_loss: 0.5896 - val_accuracy: 0.6827\n",
      "Epoch 14/20\n",
      "62/62 [==============================] - 143s 2s/step - loss: 0.5042 - accuracy: 0.7506 - val_loss: 0.6224 - val_accuracy: 0.7019\n",
      "Epoch 15/20\n",
      "62/62 [==============================] - 140s 2s/step - loss: 0.5188 - accuracy: 0.7424 - val_loss: 0.6849 - val_accuracy: 0.6695\n",
      "Epoch 16/20\n",
      "62/62 [==============================] - 124s 2s/step - loss: 0.5137 - accuracy: 0.7409 - val_loss: 0.5796 - val_accuracy: 0.7200\n",
      "Epoch 17/20\n",
      "62/62 [==============================] - 122s 2s/step - loss: 0.4956 - accuracy: 0.7588 - val_loss: 0.7265 - val_accuracy: 0.6550\n",
      "Epoch 18/20\n",
      "62/62 [==============================] - 122s 2s/step - loss: 0.4933 - accuracy: 0.7450 - val_loss: 0.6156 - val_accuracy: 0.6863\n",
      "Epoch 19/20\n",
      "62/62 [==============================] - 131s 2s/step - loss: 0.5293 - accuracy: 0.7368 - val_loss: 0.5736 - val_accuracy: 0.7019\n",
      "Epoch 20/20\n",
      "62/62 [==============================] - 122s 2s/step - loss: 0.4805 - accuracy: 0.7634 - val_loss: 0.6584 - val_accuracy: 0.6827\n"
     ]
    }
   ],
   "source": [
    "# Train your model\n",
    "history = model.fit(train_generator,\n",
    "                    steps_per_epoch=train_generator.n // batch_size,\n",
    "                    epochs=epochs,\n",
    "                    validation_data=val_generator,\n",
    "                    validation_steps=val_generator.n // batch_size)\n",
    "\n",
    "# Save your model\n",
    "model.save('my_food_classifier.h5')"
   ]
  },
  {
   "cell_type": "code",
   "execution_count": 15,
   "id": "9b81e125-3fd2-4233-9db7-4c1d4c80afb8",
   "metadata": {},
   "outputs": [
    {
     "name": "stdout",
     "output_type": "stream",
     "text": [
      "Found 2321 images belonging to 2 classes.\n",
      "73/73 [==============================] - 38s 514ms/step - loss: 0.6671 - accuracy: 0.6674\n",
      "Test accuracy: 0.6673847436904907\n"
     ]
    }
   ],
   "source": [
    "# Evaluate the model on the test set\n",
    "test_datagen = ImageDataGenerator(rescale=1.0/255)\n",
    "test_generator = test_datagen.flow_from_directory(test_dir, target_size=(img_width, img_height), batch_size=batch_size, class_mode='binary')\n",
    "test_loss, test_acc = model.evaluate(test_generator, steps=len(test_generator))\n",
    "print('Test accuracy:', test_acc)"
   ]
  },
  {
   "cell_type": "code",
   "execution_count": null,
   "id": "b2821fbb-c5da-4db0-946d-575efd2d7915",
   "metadata": {},
   "outputs": [],
   "source": []
  }
 ],
 "metadata": {
  "kernelspec": {
   "display_name": "Python 3 (ipykernel)",
   "language": "python",
   "name": "python3"
  },
  "language_info": {
   "codemirror_mode": {
    "name": "ipython",
    "version": 3
   },
   "file_extension": ".py",
   "mimetype": "text/x-python",
   "name": "python",
   "nbconvert_exporter": "python",
   "pygments_lexer": "ipython3",
   "version": "3.10.0"
  }
 },
 "nbformat": 4,
 "nbformat_minor": 5
}
